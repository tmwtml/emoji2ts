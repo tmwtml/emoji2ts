{
 "cells": [
  {
   "cell_type": "code",
   "execution_count": null,
   "metadata": {
    "collapsed": true
   },
   "outputs": [],
   "source": [
    "# !pip install dtaidistance\n",
    "# src: https://github.com/wannesm/dtaidistance"
   ]
  },
  {
   "cell_type": "code",
   "execution_count": 1,
   "metadata": {
    "collapsed": true
   },
   "outputs": [],
   "source": [
    "import numpy as np\n",
    "import matplotlib.pyplot as plt\n",
    "import cv2\n",
    "import os\n",
    "from dtaidistance import dtw"
   ]
  },
  {
   "cell_type": "code",
   "execution_count": 2,
   "metadata": {
    "collapsed": true
   },
   "outputs": [],
   "source": [
    "def preprocess(plot=False):\n",
    "    rpath = 'emoji/original/'\n",
    "    wpath = 'emoji/template/'\n",
    "\n",
    "    for f in os.listdir(rpath):\n",
    "        file = rpath + f\n",
    "        img = cv2.imread(file, -1)\n",
    "        mask = img[:,:,3]\n",
    "        img = cv2.cvtColor(img, cv2.COLOR_BGR2GRAY)\n",
    "        y = 191    \n",
    "        temp = np.ones(img.shape) * 255\n",
    "        temp[(img != y) & (mask > 0)] = 0\n",
    "        cv2.imwrite(wpath + f, temp)\n",
    "        \n",
    "        if plot:\n",
    "            plt.imshow(temp)\n",
    "            plt.show()"
   ]
  },
  {
   "cell_type": "code",
   "execution_count": 3,
   "metadata": {
    "collapsed": true
   },
   "outputs": [],
   "source": [
    "def plotemoji(file, plot=True):\n",
    "    img = cv2.imread(file, 0)\n",
    "    img = cv2.resize(img, (512,512))\n",
    "\n",
    "    n = []\n",
    "    e = []\n",
    "    s = []\n",
    "    w = []\n",
    "\n",
    "    b = img.min()\n",
    "\n",
    "    for i in range(img.shape[0]):\n",
    "        ind = np.where(img[i,:] == b)[0]\n",
    "        if len(ind) == 0:\n",
    "            n.append(img.shape[1])\n",
    "            s.append(img.shape[1])\n",
    "        else:\n",
    "            n.append(ind[0])\n",
    "            s.append(img.shape[0]-ind[-1])\n",
    "\n",
    "    for i in range(img.shape[1]):\n",
    "        ind = np.where(img[:,i] == b)[0]\n",
    "        if len(ind) == 0:\n",
    "            w.append(img.shape[0])\n",
    "            e.append(img.shape[0])\n",
    "        else:\n",
    "            w.append(ind[0])\n",
    "            e.append(img.shape[1]-ind[-1])\n",
    "            \n",
    "    ts = n + e + s + w\n",
    "    \n",
    "    if plot:\n",
    "        print(file)\n",
    "        plt.plot(ts)\n",
    "        plt.show()\n",
    "    \n",
    "    return np.array(ts, dtype=np.float)"
   ]
  },
  {
   "cell_type": "code",
   "execution_count": 4,
   "metadata": {
    "collapsed": true
   },
   "outputs": [],
   "source": [
    "def loademojits(plot=False):\n",
    "    rpath = 'emoji/template/'\n",
    "    emots = []\n",
    "\n",
    "    for f in os.listdir(rpath):\n",
    "        file = rpath + f\n",
    "        ts = plotemoji(file, plot=plot)\n",
    "        emots.append((ts,f))\n",
    "        \n",
    "    return emots"
   ]
  },
  {
   "cell_type": "code",
   "execution_count": 5,
   "metadata": {
    "collapsed": true
   },
   "outputs": [],
   "source": [
    "emojipath = 'emoji/original/'\n",
    "\n",
    "def matchemoji(file, plot=True):\n",
    "    test = plotemoji(file, plot=False)\n",
    "    dmin = 100000\n",
    "    for (e,f) in emots:\n",
    "        d = dtw.distance_fast(e, test)\n",
    "        if d < dmin:\n",
    "            dmin = d\n",
    "            ans = f\n",
    "    \n",
    "    if plot:\n",
    "        print(file, ' --> ', ans)\n",
    "        \n",
    "        timg = cv2.imread(file, 0)\n",
    "        eimg = cv2.imread(emojipath + ans)\n",
    "        \n",
    "        fig = plt.figure()\n",
    "        plt.subplot(121)\n",
    "        plt.imshow(timg, cmap='gray')\n",
    "        plt.xticks([], [])\n",
    "        plt.yticks([], [])\n",
    "        plt.subplot(122)\n",
    "        plt.imshow(cv2.cvtColor(eimg, cv2.COLOR_BGR2RGB))\n",
    "        plt.axis('off')\n",
    "        plt.show()\n",
    "        \n",
    "    return (ans[:-4] in file)"
   ]
  },
  {
   "cell_type": "code",
   "execution_count": 6,
   "metadata": {
    "collapsed": true
   },
   "outputs": [],
   "source": [
    "def computeacc():\n",
    "    rpath = 'emoji/test/'\n",
    "    acc = 0\n",
    "    n = len(os.listdir(rpath))\n",
    "\n",
    "    for f in os.listdir(rpath):\n",
    "        file = rpath + f\n",
    "        acc += matchemoji(file, plot=False)\n",
    "\n",
    "    print('Model Accuracy:', format(acc/n, '.2f'), '( False:', n-acc , '/', n ,')')\n",
    "    \n",
    "    return acc/n"
   ]
  },
  {
   "cell_type": "code",
   "execution_count": 7,
   "metadata": {},
   "outputs": [],
   "source": [
    "preprocess()"
   ]
  },
  {
   "cell_type": "code",
   "execution_count": 8,
   "metadata": {},
   "outputs": [],
   "source": [
    "emots = loademojits()"
   ]
  },
  {
   "cell_type": "code",
   "execution_count": 9,
   "metadata": {},
   "outputs": [
    {
     "name": "stdout",
     "output_type": "stream",
     "text": [
      "Model Accuracy: 0.84 ( False: 7 / 45 )\n"
     ]
    }
   ],
   "source": [
    "acc = computeacc()"
   ]
  },
  {
   "cell_type": "code",
   "execution_count": 10,
   "metadata": {},
   "outputs": [
    {
     "name": "stdout",
     "output_type": "stream",
     "text": [
      "emoji/test/angry-d.png  -->  angry.png\n"
     ]
    },
    {
     "data": {
      "image/png": "[encoded data removed]",
      "text/plain": [
       "<Figure size 432x288 with 2 Axes>"
      ]
     },
     "metadata": {},
     "output_type": "display_data"
    },
    {
     "data": {
      "text/plain": [
       "True"
      ]
     },
     "execution_count": 10,
     "metadata": {},
     "output_type": "execute_result"
    }
   ],
   "source": [
    "file = 'emoji/test/angry-d.png'\n",
    "matchemoji(file)"
   ]
  },
  {
   "cell_type": "code",
   "execution_count": 11,
   "metadata": {},
   "outputs": [
    {
     "name": "stdout",
     "output_type": "stream",
     "text": [
      "emoji/test/angry-d.png\n"
     ]
    },
    {
     "data": {
      "image/png": "[encoded data removed]",
      "text/plain": [
       "<Figure size 432x288 with 1 Axes>"
      ]
     },
     "metadata": {},
     "output_type": "display_data"
    },
    {
     "data": {
      "text/plain": [
       "array([ 512.,  512.,  512., ...,  512.,  512.,  512.])"
      ]
     },
     "execution_count": 11,
     "metadata": {},
     "output_type": "execute_result"
    }
   ],
   "source": [
    "plotemoji(file)"
   ]
  },
  {
   "cell_type": "code",
   "execution_count": 12,
   "metadata": {},
   "outputs": [
    {
     "name": "stdout",
     "output_type": "stream",
     "text": [
      "emoji/template/angry.png\n"
     ]
    },
    {
     "data": {
      "image/png": "[encoded data removed]",
      "text/plain": [
       "<Figure size 432x288 with 1 Axes>"
      ]
     },
     "metadata": {},
     "output_type": "display_data"
    },
    {
     "data": {
      "text/plain": [
       "array([ 512.,  512.,  512., ...,  512.,  512.,  512.])"
      ]
     },
     "execution_count": 12,
     "metadata": {},
     "output_type": "execute_result"
    }
   ],
   "source": [
    "plotemoji('emoji/template/angry.png')"
   ]
  },
  {
   "cell_type": "code",
   "execution_count": null,
   "metadata": {
    "collapsed": true
   },
   "outputs": [],
   "source": []
  }
 ],
 "metadata": {
  "kernelspec": {
   "display_name": "Python 3",
   "language": "python",
   "name": "python3"
  },
  "language_info": {
   "codemirror_mode": {
    "name": "ipython",
    "version": 3
   },
   "file_extension": ".py",
   "mimetype": "text/x-python",
   "name": "python",
   "nbconvert_exporter": "python",
   "pygments_lexer": "ipython3",
   "version": "3.6.2"
  }
 },
 "nbformat": 4,
 "nbformat_minor": 2
}
